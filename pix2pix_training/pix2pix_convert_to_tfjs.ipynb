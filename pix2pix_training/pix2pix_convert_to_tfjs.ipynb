{
  "nbformat": 4,
  "nbformat_minor": 0,
  "metadata": {
    "colab": {
      "provenance": [],
      "collapsed_sections": []
    },
    "kernelspec": {
      "name": "python3",
      "display_name": "Python 3"
    },
    "language_info": {
      "name": "python"
    }
  },
  "cells": [
    {
      "cell_type": "markdown",
      "source": [
        "# Converting TensorFlow models to TensorFlow.js\n",
        "To use the model in Figment we need to convert it to [TensorFlow.js](https://www.tensorflow.org/js). This script does that."
      ],
      "metadata": {
        "id": "DVTlaIXD-NT5"
      }
    },
    {
      "cell_type": "code",
      "execution_count": null,
      "metadata": {
        "id": "zDb5UN557Jbd"
      },
      "outputs": [],
      "source": [
        "# Install the Python tensorflowjs library\n",
        "%pip install -qq tensorflowjs"
      ]
    },
    {
      "cell_type": "code",
      "source": [
        "#@title Some helper functions for creating/checking directories.\n",
        "\n",
        "import os\n",
        "\n",
        "def directory_should_exist(*args):\n",
        "    dir = os.path.join(*args)\n",
        "    if not os.path.isdir(dir):\n",
        "        raise Exception(\"Path '{}' is not a directory.\".format(dir))\n",
        "    return dir\n",
        "\n",
        "def ensure_directory(*args):\n",
        "    dir = os.path.join(*args)\n",
        "    try:\n",
        "        os.makedirs(dir)\n",
        "    except OSError as err:\n",
        "        if err.errno != 17:\n",
        "            raise err\n",
        "    return dir"
      ],
      "metadata": {
        "cellView": "form",
        "id": "fbAS0BRBfWza"
      },
      "execution_count": null,
      "outputs": []
    },
    {
      "cell_type": "markdown",
      "source": [
        "## Upload the generator\n",
        "\n",
        "Here's where you come in! Let's upload our generator:\n",
        "\n",
        "1. You should have downloaded the `generator.zip` from the [`pix2pix_train_colab.ipynb`](https://github.com/algorithmicgaze/2022-kikk-workshop/blob/main/pix2pix_training/pix2pix_train_colab.ipynb) script.\n",
        "2. Open the \"Files\" sidebar to the left\n",
        "3. Drag the `generator.zip` file to the sidebar.\n",
        "4. Wait for it to complete uploading before performing the next step."
      ],
      "metadata": {
        "id": "tcYqUNlp-e8x"
      }
    },
    {
      "cell_type": "markdown",
      "source": [
        "## Optional Method: Download the generator.zip from Google Drive\n",
        "\n",
        "If you've saved the generator to Google Drive in the other Colab script, you can download it here again. This will be faster than downloading/uploading the file."
      ],
      "metadata": {
        "id": "Ev_q3KaigW7j"
      }
    },
    {
      "cell_type": "code",
      "source": [
        "# Step 1: Mount Google Drive\n",
        "from google.colab import drive\n",
        "drive.mount('/drive')"
      ],
      "metadata": {
        "id": "awrd8tP-fB8g"
      },
      "execution_count": null,
      "outputs": []
    },
    {
      "cell_type": "code",
      "source": [
        "# Step 2: Copy the generator from Google Drive to the output folder\n",
        "import shutil\n",
        "drive_folder = '/drive/MyDrive/2022-kikk-ai-workshop'\n",
        "ensure_directory(drive_folder)\n",
        "shutil.copy(os.path.join(drive_folder, 'generator.zip'), 'generator.zip')"
      ],
      "metadata": {
        "id": "0URSlDvXfPTM"
      },
      "execution_count": null,
      "outputs": []
    },
    {
      "cell_type": "markdown",
      "source": [
        "## Optional method: Use a pretrained generator model"
      ],
      "metadata": {
        "id": "vUf9cxO8gdJw"
      }
    },
    {
      "cell_type": "code",
      "source": [
        "# Optional: is the uploading taking too long? Use a petrained generator.\n",
        "!curl -O https://enigmeta.s3.amazonaws.com/2022-kikk-workshop/woman_dancing_generator.zip"
      ],
      "metadata": {
        "id": "Zv9IsPG1-Cbg"
      },
      "execution_count": null,
      "outputs": []
    },
    {
      "cell_type": "markdown",
      "source": [
        "## Acquired a generator.zip? Let's continue!"
      ],
      "metadata": {
        "id": "fttasNZNjmu8"
      }
    },
    {
      "cell_type": "code",
      "source": [
        "!rm -rf generator\n",
        "!rm -rf output\n",
        "!unzip  *.zip"
      ],
      "metadata": {
        "id": "s67ccaRZ7gzQ"
      },
      "execution_count": null,
      "outputs": []
    },
    {
      "cell_type": "code",
      "source": [
        "import os\n",
        "output_dir = 'output'\n",
        "generator_dir = 'generator'"
      ],
      "metadata": {
        "id": "NMHPx2hV7jtb"
      },
      "execution_count": null,
      "outputs": []
    },
    {
      "cell_type": "code",
      "source": [
        "import subprocess\n",
        "import shutil\n",
        "tfjs_dir = os.path.join(output_dir, 'tfjs')\n",
        "!tensorflowjs_converter $generator_dir $tfjs_dir\n",
        "#subprocess.run(['tensorflowjs_converter', generator_dir, tfjs_dir])\n",
        "shutil.make_archive(tfjs_dir, 'zip', output_dir, 'tfjs')"
      ],
      "metadata": {
        "id": "rQxrcfnP7QVT"
      },
      "execution_count": null,
      "outputs": []
    },
    {
      "cell_type": "code",
      "source": [
        "# Zip and download the TensorFlow.js model\n",
        "from google.colab import files\n",
        "files.download('output/tfjs.zip')"
      ],
      "metadata": {
        "id": "0lhO_p5P-6Ja"
      },
      "execution_count": null,
      "outputs": []
    }
  ]
}