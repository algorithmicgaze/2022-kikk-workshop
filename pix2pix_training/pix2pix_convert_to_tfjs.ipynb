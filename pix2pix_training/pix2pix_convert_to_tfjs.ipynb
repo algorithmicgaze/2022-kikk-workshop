{
  "nbformat": 4,
  "nbformat_minor": 0,
  "metadata": {
    "colab": {
      "provenance": [],
      "collapsed_sections": []
    },
    "kernelspec": {
      "name": "python3",
      "display_name": "Python 3"
    },
    "language_info": {
      "name": "python"
    }
  },
  "cells": [
    {
      "cell_type": "markdown",
      "source": [
        "# Converting TensorFlow models to TensorFlow.js\n",
        "To use the model in Figment we need to convert it to [TensorFlow.js](https://www.tensorflow.org/js). This script does that."
      ],
      "metadata": {
        "id": "DVTlaIXD-NT5"
      }
    },
    {
      "cell_type": "code",
      "execution_count": null,
      "metadata": {
        "id": "zDb5UN557Jbd"
      },
      "outputs": [],
      "source": [
        "# Install the Python tensorflowjs library\n",
        "%pip install -qq tensorflowjs"
      ]
    },
    {
      "cell_type": "markdown",
      "source": [
        "## Upload the generator\n",
        "\n",
        "Here's where you come in! Let's upload our generator:\n",
        "\n",
        "1. You should have downloaded the `generator.zip` from the [`pix2pix_train_colab.ipynb`](https://github.com/algorithmicgaze/2022-kikk-workshop/blob/main/pix2pix_training/pix2pix_train_colab.ipynb) script.\n",
        "2. Open the \"Files\" sidebar to the left\n",
        "3. Drag the `generator.zip` file to the sidebar.\n",
        "4. Wait for it to complete uploading before performing the next step."
      ],
      "metadata": {
        "id": "tcYqUNlp-e8x"
      }
    },
    {
      "cell_type": "code",
      "source": [
        "# Optional: is the uploading taking too long? Use a petrained generator.\n",
        "!curl -O https://enigmeta.s3.amazonaws.com/2022-kikk-workshop/unsplash_woman_face_generator.zip"
      ],
      "metadata": {
        "id": "Zv9IsPG1-Cbg"
      },
      "execution_count": null,
      "outputs": []
    },
    {
      "cell_type": "code",
      "source": [
        "!unzip  *.zip"
      ],
      "metadata": {
        "id": "s67ccaRZ7gzQ"
      },
      "execution_count": null,
      "outputs": []
    },
    {
      "cell_type": "code",
      "source": [
        "import os\n",
        "output_dir = 'output'\n",
        "generator_dir = 'generator'"
      ],
      "metadata": {
        "id": "NMHPx2hV7jtb"
      },
      "execution_count": null,
      "outputs": []
    },
    {
      "cell_type": "code",
      "source": [
        "import subprocess\n",
        "import shutil\n",
        "tfjs_dir = os.path.join(output_dir, 'tfjs')\n",
        "!tensorflowjs_converter $generator_dir $tfjs_dir\n",
        "#subprocess.run(['tensorflowjs_converter', generator_dir, tfjs_dir])\n",
        "shutil.make_archive(tfjs_dir, 'zip', output_dir, 'tfjs')"
      ],
      "metadata": {
        "id": "rQxrcfnP7QVT"
      },
      "execution_count": null,
      "outputs": []
    },
    {
      "cell_type": "code",
      "source": [
        "# Zip and download the TensorFlow.js model\n",
        "from google.colab import files\n",
        "files.download('output/tfjs.zip')"
      ],
      "metadata": {
        "id": "0lhO_p5P-6Ja"
      },
      "execution_count": null,
      "outputs": []
    },
    {
      "cell_type": "code",
      "source": [],
      "metadata": {
        "id": "36zvqs8V_Pf-"
      },
      "execution_count": null,
      "outputs": []
    }
  ]
}